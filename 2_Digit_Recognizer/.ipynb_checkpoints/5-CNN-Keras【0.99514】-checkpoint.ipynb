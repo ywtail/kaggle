{
 "cells": [
  {
   "cell_type": "markdown",
   "metadata": {
    "deletable": true,
    "editable": true
   },
   "source": [
    "# 5-CNN（0.99514, Top 12%, 198/1789）\n",
    "\n",
    "参考：https://www.kaggle.com/toregil/welcome-to-deep-learning-cnn-99"
   ]
  },
  {
   "cell_type": "code",
   "execution_count": 3,
   "metadata": {
    "collapsed": true,
    "deletable": true,
    "editable": true
   },
   "outputs": [],
   "source": [
    "import pandas as pd\n",
    "import numpy as np\n",
    "from sklearn.model_selection import train_test_split\n",
    "from sklearn.metrics import confusion_matrix"
   ]
  },
  {
   "cell_type": "code",
   "execution_count": 4,
   "metadata": {
    "collapsed": false,
    "deletable": true,
    "editable": true
   },
   "outputs": [
    {
     "name": "stderr",
     "output_type": "stream",
     "text": [
      "Using TensorFlow backend.\n"
     ]
    }
   ],
   "source": [
    "from keras.utils.np_utils import to_categorical # convert to one-hot-encoding\n",
    "from keras.models import Sequential\n",
    "from keras.layers import Dense, Dropout, Flatten, Conv2D, MaxPool2D, BatchNormalization\n",
    "from keras.optimizers import Adam\n",
    "from keras.preprocessing.image import ImageDataGenerator\n",
    "from keras.callbacks import LearningRateScheduler"
   ]
  },
  {
   "cell_type": "code",
   "execution_count": 5,
   "metadata": {
    "collapsed": false,
    "deletable": true,
    "editable": true
   },
   "outputs": [
    {
     "data": {
      "text/plain": [
       "((42000, 785), (28000, 784))"
      ]
     },
     "execution_count": 5,
     "metadata": {},
     "output_type": "execute_result"
    }
   ],
   "source": [
    "train_data=pd.read_csv('train.csv')\n",
    "test_data=pd.read_csv('test.csv')\n",
    "train_data.shape,test_data.shape"
   ]
  },
  {
   "cell_type": "code",
   "execution_count": 6,
   "metadata": {
    "collapsed": false,
    "deletable": true,
    "editable": true
   },
   "outputs": [
    {
     "data": {
      "text/html": [
       "<div>\n",
       "<style>\n",
       "    .dataframe thead tr:only-child th {\n",
       "        text-align: right;\n",
       "    }\n",
       "\n",
       "    .dataframe thead th {\n",
       "        text-align: left;\n",
       "    }\n",
       "\n",
       "    .dataframe tbody tr th {\n",
       "        vertical-align: top;\n",
       "    }\n",
       "</style>\n",
       "<table border=\"1\" class=\"dataframe\">\n",
       "  <thead>\n",
       "    <tr style=\"text-align: right;\">\n",
       "      <th></th>\n",
       "      <th>label</th>\n",
       "      <th>pixel0</th>\n",
       "      <th>pixel1</th>\n",
       "      <th>pixel2</th>\n",
       "      <th>pixel3</th>\n",
       "      <th>pixel4</th>\n",
       "      <th>pixel5</th>\n",
       "      <th>pixel6</th>\n",
       "      <th>pixel7</th>\n",
       "      <th>pixel8</th>\n",
       "      <th>...</th>\n",
       "      <th>pixel774</th>\n",
       "      <th>pixel775</th>\n",
       "      <th>pixel776</th>\n",
       "      <th>pixel777</th>\n",
       "      <th>pixel778</th>\n",
       "      <th>pixel779</th>\n",
       "      <th>pixel780</th>\n",
       "      <th>pixel781</th>\n",
       "      <th>pixel782</th>\n",
       "      <th>pixel783</th>\n",
       "    </tr>\n",
       "  </thead>\n",
       "  <tbody>\n",
       "    <tr>\n",
       "      <th>0</th>\n",
       "      <td>1</td>\n",
       "      <td>0</td>\n",
       "      <td>0</td>\n",
       "      <td>0</td>\n",
       "      <td>0</td>\n",
       "      <td>0</td>\n",
       "      <td>0</td>\n",
       "      <td>0</td>\n",
       "      <td>0</td>\n",
       "      <td>0</td>\n",
       "      <td>...</td>\n",
       "      <td>0</td>\n",
       "      <td>0</td>\n",
       "      <td>0</td>\n",
       "      <td>0</td>\n",
       "      <td>0</td>\n",
       "      <td>0</td>\n",
       "      <td>0</td>\n",
       "      <td>0</td>\n",
       "      <td>0</td>\n",
       "      <td>0</td>\n",
       "    </tr>\n",
       "    <tr>\n",
       "      <th>1</th>\n",
       "      <td>0</td>\n",
       "      <td>0</td>\n",
       "      <td>0</td>\n",
       "      <td>0</td>\n",
       "      <td>0</td>\n",
       "      <td>0</td>\n",
       "      <td>0</td>\n",
       "      <td>0</td>\n",
       "      <td>0</td>\n",
       "      <td>0</td>\n",
       "      <td>...</td>\n",
       "      <td>0</td>\n",
       "      <td>0</td>\n",
       "      <td>0</td>\n",
       "      <td>0</td>\n",
       "      <td>0</td>\n",
       "      <td>0</td>\n",
       "      <td>0</td>\n",
       "      <td>0</td>\n",
       "      <td>0</td>\n",
       "      <td>0</td>\n",
       "    </tr>\n",
       "    <tr>\n",
       "      <th>2</th>\n",
       "      <td>1</td>\n",
       "      <td>0</td>\n",
       "      <td>0</td>\n",
       "      <td>0</td>\n",
       "      <td>0</td>\n",
       "      <td>0</td>\n",
       "      <td>0</td>\n",
       "      <td>0</td>\n",
       "      <td>0</td>\n",
       "      <td>0</td>\n",
       "      <td>...</td>\n",
       "      <td>0</td>\n",
       "      <td>0</td>\n",
       "      <td>0</td>\n",
       "      <td>0</td>\n",
       "      <td>0</td>\n",
       "      <td>0</td>\n",
       "      <td>0</td>\n",
       "      <td>0</td>\n",
       "      <td>0</td>\n",
       "      <td>0</td>\n",
       "    </tr>\n",
       "    <tr>\n",
       "      <th>3</th>\n",
       "      <td>4</td>\n",
       "      <td>0</td>\n",
       "      <td>0</td>\n",
       "      <td>0</td>\n",
       "      <td>0</td>\n",
       "      <td>0</td>\n",
       "      <td>0</td>\n",
       "      <td>0</td>\n",
       "      <td>0</td>\n",
       "      <td>0</td>\n",
       "      <td>...</td>\n",
       "      <td>0</td>\n",
       "      <td>0</td>\n",
       "      <td>0</td>\n",
       "      <td>0</td>\n",
       "      <td>0</td>\n",
       "      <td>0</td>\n",
       "      <td>0</td>\n",
       "      <td>0</td>\n",
       "      <td>0</td>\n",
       "      <td>0</td>\n",
       "    </tr>\n",
       "    <tr>\n",
       "      <th>4</th>\n",
       "      <td>0</td>\n",
       "      <td>0</td>\n",
       "      <td>0</td>\n",
       "      <td>0</td>\n",
       "      <td>0</td>\n",
       "      <td>0</td>\n",
       "      <td>0</td>\n",
       "      <td>0</td>\n",
       "      <td>0</td>\n",
       "      <td>0</td>\n",
       "      <td>...</td>\n",
       "      <td>0</td>\n",
       "      <td>0</td>\n",
       "      <td>0</td>\n",
       "      <td>0</td>\n",
       "      <td>0</td>\n",
       "      <td>0</td>\n",
       "      <td>0</td>\n",
       "      <td>0</td>\n",
       "      <td>0</td>\n",
       "      <td>0</td>\n",
       "    </tr>\n",
       "  </tbody>\n",
       "</table>\n",
       "<p>5 rows × 785 columns</p>\n",
       "</div>"
      ],
      "text/plain": [
       "   label  pixel0  pixel1  pixel2  pixel3  pixel4  pixel5  pixel6  pixel7  \\\n",
       "0      1       0       0       0       0       0       0       0       0   \n",
       "1      0       0       0       0       0       0       0       0       0   \n",
       "2      1       0       0       0       0       0       0       0       0   \n",
       "3      4       0       0       0       0       0       0       0       0   \n",
       "4      0       0       0       0       0       0       0       0       0   \n",
       "\n",
       "   pixel8    ...     pixel774  pixel775  pixel776  pixel777  pixel778  \\\n",
       "0       0    ...            0         0         0         0         0   \n",
       "1       0    ...            0         0         0         0         0   \n",
       "2       0    ...            0         0         0         0         0   \n",
       "3       0    ...            0         0         0         0         0   \n",
       "4       0    ...            0         0         0         0         0   \n",
       "\n",
       "   pixel779  pixel780  pixel781  pixel782  pixel783  \n",
       "0         0         0         0         0         0  \n",
       "1         0         0         0         0         0  \n",
       "2         0         0         0         0         0  \n",
       "3         0         0         0         0         0  \n",
       "4         0         0         0         0         0  \n",
       "\n",
       "[5 rows x 785 columns]"
      ]
     },
     "execution_count": 6,
     "metadata": {},
     "output_type": "execute_result"
    }
   ],
   "source": [
    "train_data.head()"
   ]
  },
  {
   "cell_type": "code",
   "execution_count": 7,
   "metadata": {
    "collapsed": false,
    "deletable": true,
    "editable": true
   },
   "outputs": [
    {
     "data": {
      "text/plain": [
       "((42000,), (42000, 784))"
      ]
     },
     "execution_count": 7,
     "metadata": {},
     "output_type": "execute_result"
    }
   ],
   "source": [
    "labels=train_data['label'].values\n",
    "images=train_data.drop(['label'],axis=1).values\n",
    "labels.shape,images.shape"
   ]
  },
  {
   "cell_type": "code",
   "execution_count": 8,
   "metadata": {
    "collapsed": false,
    "deletable": true,
    "editable": true
   },
   "outputs": [
    {
     "data": {
      "text/plain": [
       "((40320, 784), (1680, 784))"
      ]
     },
     "execution_count": 8,
     "metadata": {},
     "output_type": "execute_result"
    }
   ],
   "source": [
    "x_train, x_val, y_train, y_val = train_test_split(\n",
    "    images, labels, test_size=0.04)\n",
    "x_train.shape,x_val.shape"
   ]
  },
  {
   "cell_type": "code",
   "execution_count": 9,
   "metadata": {
    "collapsed": true,
    "deletable": true,
    "editable": true
   },
   "outputs": [],
   "source": [
    "x_train = x_train.reshape(-1, 28, 28, 1)\n",
    "x_val = x_val.reshape(-1, 28, 28, 1)"
   ]
  },
  {
   "cell_type": "code",
   "execution_count": 10,
   "metadata": {
    "collapsed": true,
    "deletable": true,
    "editable": true
   },
   "outputs": [],
   "source": [
    "x_train = x_train.astype(\"float32\")/255.\n",
    "x_val = x_val.astype(\"float32\")/255."
   ]
  },
  {
   "cell_type": "code",
   "execution_count": 11,
   "metadata": {
    "collapsed": false,
    "deletable": true,
    "editable": true
   },
   "outputs": [
    {
     "name": "stdout",
     "output_type": "stream",
     "text": [
      "[ 0.  0.  0.  0.  0.  0.  0.  0.  0.  1.]\n"
     ]
    }
   ],
   "source": [
    "y_train = to_categorical(y_train)\n",
    "y_val = to_categorical(y_val)\n",
    "#example:\n",
    "print(y_train[0])"
   ]
  },
  {
   "cell_type": "code",
   "execution_count": 12,
   "metadata": {
    "collapsed": true,
    "deletable": true,
    "editable": true
   },
   "outputs": [],
   "source": [
    "model = Sequential()\n",
    "\n",
    "model.add(Conv2D(filters = 16, kernel_size = (3, 3), activation='relu',\n",
    "                 input_shape = (28, 28, 1)))\n",
    "model.add(BatchNormalization())\n",
    "model.add(Conv2D(filters = 16, kernel_size = (3, 3), activation='relu'))\n",
    "model.add(BatchNormalization())\n",
    "model.add(MaxPool2D(strides=(2,2)))\n",
    "model.add(Dropout(0.25))\n",
    "\n",
    "model.add(Conv2D(filters = 32, kernel_size = (3, 3), activation='relu'))\n",
    "model.add(BatchNormalization())\n",
    "model.add(Conv2D(filters = 32, kernel_size = (3, 3), activation='relu'))\n",
    "model.add(BatchNormalization())\n",
    "model.add(MaxPool2D(strides=(2,2)))\n",
    "model.add(Dropout(0.25))\n",
    "\n",
    "model.add(Flatten())\n",
    "model.add(Dense(512, activation='relu'))\n",
    "model.add(Dropout(0.25))\n",
    "model.add(Dense(1024, activation='relu'))\n",
    "model.add(Dropout(0.5))\n",
    "model.add(Dense(10, activation='softmax'))"
   ]
  },
  {
   "cell_type": "code",
   "execution_count": 13,
   "metadata": {
    "collapsed": true,
    "deletable": true,
    "editable": true
   },
   "outputs": [],
   "source": [
    "datagen = ImageDataGenerator(zoom_range = 0.1,\n",
    "                            height_shift_range = 0.1,\n",
    "                            width_shift_range = 0.1,\n",
    "                            rotation_range = 10)"
   ]
  },
  {
   "cell_type": "code",
   "execution_count": 14,
   "metadata": {
    "collapsed": true,
    "deletable": true,
    "editable": true
   },
   "outputs": [],
   "source": [
    "model.compile(loss='categorical_crossentropy', optimizer = Adam(lr=1e-4), metrics=[\"accuracy\"])"
   ]
  },
  {
   "cell_type": "code",
   "execution_count": 15,
   "metadata": {
    "collapsed": true,
    "deletable": true,
    "editable": true
   },
   "outputs": [],
   "source": [
    "annealer = LearningRateScheduler(lambda x: 1e-3 * 0.9 ** x)"
   ]
  },
  {
   "cell_type": "code",
   "execution_count": null,
   "metadata": {
    "collapsed": false,
    "deletable": true,
    "editable": true
   },
   "outputs": [
    {
     "name": "stdout",
     "output_type": "stream",
     "text": [
      "Epoch 1/100\n",
      "36s - loss: 0.2783 - acc: 0.9293 - val_loss: 0.0618 - val_acc: 0.9850\n",
      "Epoch 2/100\n",
      "36s - loss: 0.2110 - acc: 0.9475 - val_loss: 0.0620 - val_acc: 0.9825\n",
      "Epoch 3/100\n",
      "35s - loss: 0.1766 - acc: 0.9544 - val_loss: 0.0609 - val_acc: 0.9875\n",
      "Epoch 4/100\n",
      "37s - loss: 0.1485 - acc: 0.9591 - val_loss: 0.0405 - val_acc: 0.9925\n",
      "Epoch 5/100\n",
      "35s - loss: 0.1412 - acc: 0.9633 - val_loss: 0.0227 - val_acc: 0.9900\n",
      "Epoch 6/100\n",
      "36s - loss: 0.1337 - acc: 0.9625 - val_loss: 0.0140 - val_acc: 0.9975\n",
      "Epoch 7/100\n",
      "36s - loss: 0.1251 - acc: 0.9631 - val_loss: 0.0368 - val_acc: 0.9950\n",
      "Epoch 8/100\n",
      "37s - loss: 0.1147 - acc: 0.9675 - val_loss: 0.0180 - val_acc: 0.9975\n",
      "Epoch 9/100\n",
      "36s - loss: 0.0984 - acc: 0.9730 - val_loss: 0.0152 - val_acc: 0.9975\n",
      "Epoch 10/100\n",
      "36s - loss: 0.0996 - acc: 0.9725 - val_loss: 0.0126 - val_acc: 0.9950\n",
      "Epoch 11/100\n",
      "37s - loss: 0.1031 - acc: 0.9726 - val_loss: 0.0254 - val_acc: 0.9950\n",
      "Epoch 12/100\n",
      "36s - loss: 0.0943 - acc: 0.9726 - val_loss: 0.0262 - val_acc: 0.9950\n",
      "Epoch 13/100\n",
      "36s - loss: 0.0888 - acc: 0.9726 - val_loss: 0.0222 - val_acc: 0.9950\n",
      "Epoch 14/100\n",
      "31s - loss: 0.0608 - acc: 0.9816 - val_loss: 0.0292 - val_acc: 0.9900\n",
      "Epoch 15/100\n",
      "29s - loss: 0.0797 - acc: 0.9778 - val_loss: 0.0268 - val_acc: 0.9950\n",
      "Epoch 16/100\n",
      "32s - loss: 0.0787 - acc: 0.9786 - val_loss: 0.0251 - val_acc: 0.9950\n",
      "Epoch 17/100\n",
      "29s - loss: 0.0733 - acc: 0.9778 - val_loss: 0.0170 - val_acc: 0.9950\n",
      "Epoch 18/100\n",
      "30s - loss: 0.0654 - acc: 0.9814 - val_loss: 0.0271 - val_acc: 0.9950\n",
      "Epoch 19/100\n",
      "29s - loss: 0.0827 - acc: 0.9764 - val_loss: 0.0234 - val_acc: 0.9950\n",
      "Epoch 20/100\n",
      "33s - loss: 0.0750 - acc: 0.9792 - val_loss: 0.0248 - val_acc: 0.9950\n",
      "Epoch 21/100\n",
      "29s - loss: 0.0690 - acc: 0.9819 - val_loss: 0.0305 - val_acc: 0.9950\n",
      "Epoch 22/100\n",
      "31s - loss: 0.0660 - acc: 0.9811 - val_loss: 0.0255 - val_acc: 0.9950\n",
      "Epoch 23/100\n",
      "30s - loss: 0.0693 - acc: 0.9812 - val_loss: 0.0197 - val_acc: 0.9950\n",
      "Epoch 24/100\n",
      "32s - loss: 0.0617 - acc: 0.9809 - val_loss: 0.0205 - val_acc: 0.9950\n",
      "Epoch 25/100\n",
      "30s - loss: 0.0532 - acc: 0.9853 - val_loss: 0.0236 - val_acc: 0.9950\n",
      "Epoch 26/100\n",
      "33s - loss: 0.0658 - acc: 0.9816 - val_loss: 0.0225 - val_acc: 0.9950\n",
      "Epoch 27/100\n",
      "36s - loss: 0.0640 - acc: 0.9814 - val_loss: 0.0189 - val_acc: 0.9950\n",
      "Epoch 28/100\n",
      "35s - loss: 0.0630 - acc: 0.9824 - val_loss: 0.0200 - val_acc: 0.9950\n",
      "Epoch 29/100\n",
      "36s - loss: 0.0662 - acc: 0.9816 - val_loss: 0.0223 - val_acc: 0.9950\n",
      "Epoch 30/100\n",
      "37s - loss: 0.0552 - acc: 0.9838 - val_loss: 0.0226 - val_acc: 0.9950\n",
      "Epoch 31/100\n",
      "36s - loss: 0.0492 - acc: 0.9841 - val_loss: 0.0237 - val_acc: 0.9950\n",
      "Epoch 32/100\n",
      "36s - loss: 0.0605 - acc: 0.9842 - val_loss: 0.0237 - val_acc: 0.9950\n",
      "Epoch 33/100\n",
      "33s - loss: 0.0563 - acc: 0.9832 - val_loss: 0.0221 - val_acc: 0.9950\n",
      "Epoch 34/100\n",
      "35s - loss: 0.0557 - acc: 0.9832 - val_loss: 0.0194 - val_acc: 0.9950\n",
      "Epoch 35/100\n",
      "37s - loss: 0.0644 - acc: 0.9814 - val_loss: 0.0208 - val_acc: 0.9950\n",
      "Epoch 36/100\n",
      "36s - loss: 0.0486 - acc: 0.9845 - val_loss: 0.0226 - val_acc: 0.9950\n",
      "Epoch 37/100\n",
      "38s - loss: 0.0538 - acc: 0.9823 - val_loss: 0.0216 - val_acc: 0.9950\n",
      "Epoch 38/100\n",
      "35s - loss: 0.0584 - acc: 0.9840 - val_loss: 0.0230 - val_acc: 0.9950\n",
      "Epoch 39/100\n",
      "36s - loss: 0.0589 - acc: 0.9834 - val_loss: 0.0209 - val_acc: 0.9950\n",
      "Epoch 40/100\n",
      "37s - loss: 0.0631 - acc: 0.9820 - val_loss: 0.0206 - val_acc: 0.9950\n",
      "Epoch 41/100\n",
      "34s - loss: 0.0570 - acc: 0.9834 - val_loss: 0.0209 - val_acc: 0.9950\n",
      "Epoch 42/100\n",
      "35s - loss: 0.0607 - acc: 0.9825 - val_loss: 0.0216 - val_acc: 0.9950\n",
      "Epoch 43/100\n",
      "34s - loss: 0.0622 - acc: 0.9816 - val_loss: 0.0211 - val_acc: 0.9950\n",
      "Epoch 44/100\n",
      "36s - loss: 0.0606 - acc: 0.9825 - val_loss: 0.0202 - val_acc: 0.9950\n",
      "Epoch 45/100\n",
      "36s - loss: 0.0517 - acc: 0.9845 - val_loss: 0.0204 - val_acc: 0.9950\n",
      "Epoch 46/100\n",
      "37s - loss: 0.0619 - acc: 0.9830 - val_loss: 0.0204 - val_acc: 0.9950\n",
      "Epoch 47/100\n",
      "37s - loss: 0.0493 - acc: 0.9856 - val_loss: 0.0206 - val_acc: 0.9950\n",
      "Epoch 48/100\n",
      "35s - loss: 0.0602 - acc: 0.9831 - val_loss: 0.0206 - val_acc: 0.9950\n",
      "Epoch 49/100\n",
      "39s - loss: 0.0491 - acc: 0.9866 - val_loss: 0.0207 - val_acc: 0.9950\n",
      "Epoch 50/100\n",
      "36s - loss: 0.0530 - acc: 0.9844 - val_loss: 0.0194 - val_acc: 0.9950\n",
      "Epoch 51/100\n",
      "34s - loss: 0.0599 - acc: 0.9831 - val_loss: 0.0203 - val_acc: 0.9950\n",
      "Epoch 52/100\n",
      "38s - loss: 0.0511 - acc: 0.9851 - val_loss: 0.0200 - val_acc: 0.9950\n",
      "Epoch 53/100\n",
      "35s - loss: 0.0543 - acc: 0.9856 - val_loss: 0.0200 - val_acc: 0.9950\n",
      "Epoch 54/100\n",
      "36s - loss: 0.0493 - acc: 0.9842 - val_loss: 0.0194 - val_acc: 0.9950\n",
      "Epoch 55/100\n",
      "38s - loss: 0.0548 - acc: 0.9846 - val_loss: 0.0196 - val_acc: 0.9950\n",
      "Epoch 56/100\n",
      "35s - loss: 0.0551 - acc: 0.9832 - val_loss: 0.0197 - val_acc: 0.9950\n",
      "Epoch 57/100\n",
      "36s - loss: 0.0612 - acc: 0.9830 - val_loss: 0.0202 - val_acc: 0.9950\n",
      "Epoch 58/100\n",
      "36s - loss: 0.0518 - acc: 0.9840 - val_loss: 0.0197 - val_acc: 0.9950\n",
      "Epoch 59/100\n",
      "38s - loss: 0.0546 - acc: 0.9835 - val_loss: 0.0201 - val_acc: 0.9950\n",
      "Epoch 60/100\n",
      "37s - loss: 0.0481 - acc: 0.9855 - val_loss: 0.0199 - val_acc: 0.9950\n",
      "Epoch 61/100\n",
      "33s - loss: 0.0567 - acc: 0.9839 - val_loss: 0.0198 - val_acc: 0.9950\n",
      "Epoch 62/100\n",
      "37s - loss: 0.0560 - acc: 0.9842 - val_loss: 0.0198 - val_acc: 0.9950\n",
      "Epoch 63/100\n",
      "33s - loss: 0.0546 - acc: 0.9851 - val_loss: 0.0204 - val_acc: 0.9950\n",
      "Epoch 64/100\n",
      "35s - loss: 0.0476 - acc: 0.9865 - val_loss: 0.0199 - val_acc: 0.9950\n",
      "Epoch 65/100\n",
      "36s - loss: 0.0601 - acc: 0.9825 - val_loss: 0.0200 - val_acc: 0.9950\n",
      "Epoch 66/100\n",
      "35s - loss: 0.0538 - acc: 0.9851 - val_loss: 0.0192 - val_acc: 0.9950\n",
      "Epoch 67/100\n",
      "35s - loss: 0.0535 - acc: 0.9844 - val_loss: 0.0194 - val_acc: 0.9950\n",
      "Epoch 68/100\n",
      "33s - loss: 0.0577 - acc: 0.9810 - val_loss: 0.0197 - val_acc: 0.9950\n",
      "Epoch 69/100\n",
      "36s - loss: 0.0586 - acc: 0.9820 - val_loss: 0.0200 - val_acc: 0.9950\n",
      "Epoch 70/100\n",
      "36s - loss: 0.0505 - acc: 0.9851 - val_loss: 0.0203 - val_acc: 0.9950\n",
      "Epoch 71/100\n",
      "35s - loss: 0.0522 - acc: 0.9854 - val_loss: 0.0200 - val_acc: 0.9950\n",
      "Epoch 72/100\n",
      "36s - loss: 0.0475 - acc: 0.9865 - val_loss: 0.0198 - val_acc: 0.9950\n",
      "Epoch 73/100\n",
      "35s - loss: 0.0538 - acc: 0.9840 - val_loss: 0.0192 - val_acc: 0.9950\n",
      "Epoch 74/100\n",
      "36s - loss: 0.0612 - acc: 0.9812 - val_loss: 0.0195 - val_acc: 0.9950\n",
      "Epoch 75/100\n",
      "38s - loss: 0.0519 - acc: 0.9839 - val_loss: 0.0198 - val_acc: 0.9950\n",
      "Epoch 76/100\n",
      "32s - loss: 0.0551 - acc: 0.9828 - val_loss: 0.0200 - val_acc: 0.9950\n",
      "Epoch 77/100\n",
      "36s - loss: 0.0413 - acc: 0.9866 - val_loss: 0.0194 - val_acc: 0.9950\n",
      "Epoch 78/100\n",
      "34s - loss: 0.0564 - acc: 0.9821 - val_loss: 0.0201 - val_acc: 0.9950\n",
      "Epoch 79/100\n",
      "32s - loss: 0.0635 - acc: 0.9832 - val_loss: 0.0202 - val_acc: 0.9950\n",
      "Epoch 80/100\n"
     ]
    }
   ],
   "source": [
    "hist = model.fit_generator(datagen.flow(x_train, y_train, batch_size=16),\n",
    "                           steps_per_epoch=500,\n",
    "                           epochs=100, #Increase this when not on Kaggle kernel\n",
    "                           verbose=2,  #1 for ETA, 0 for silent\n",
    "                           validation_data=(x_val[:400,:], y_val[:400,:]), #For speed\n",
    "                           callbacks=[annealer])"
   ]
  },
  {
   "cell_type": "code",
   "execution_count": 18,
   "metadata": {
    "collapsed": false,
    "deletable": true,
    "editable": true
   },
   "outputs": [
    {
     "name": "stdout",
     "output_type": "stream",
     "text": [
      "Final loss: 0.0135, final accuracy: 0.9952\n"
     ]
    }
   ],
   "source": [
    "final_loss, final_acc = model.evaluate(x_val, y_val, verbose=0)\n",
    "print(\"Final loss: {0:.4f}, final accuracy: {1:.4f}\".format(final_loss, final_acc))"
   ]
  },
  {
   "cell_type": "code",
   "execution_count": 19,
   "metadata": {
    "collapsed": false,
    "deletable": true,
    "editable": true
   },
   "outputs": [
    {
     "name": "stdout",
     "output_type": "stream",
     "text": [
      "[[172   0   0   0   0   0   0   0   0   0]\n",
      " [  0 196   0   0   0   0   1   1   0   0]\n",
      " [  0   0 186   0   0   0   0   0   0   0]\n",
      " [  0   0   0 188   0   0   0   0   1   0]\n",
      " [  0   0   0   0 157   0   1   0   0   0]\n",
      " [  0   0   0   0   0 124   0   1   0   0]\n",
      " [  0   0   0   0   0   0 155   0   0   0]\n",
      " [  0   0   0   0   0   0   0 177   0   0]\n",
      " [  0   0   0   0   0   0   2   0 155   0]\n",
      " [  0   0   0   0   1   0   0   0   0 162]]\n"
     ]
    },
    {
     "name": "stderr",
     "output_type": "stream",
     "text": [
      "/usr/lib/python2.7/dist-packages/scipy/sparse/coo.py:200: VisibleDeprecationWarning: `rank` is deprecated; use the `ndim` attribute or function instead. To find the rank of a matrix see `numpy.linalg.matrix_rank`.\n",
      "  if np.rank(self.data) != 1 or np.rank(self.row) != 1 or np.rank(self.col) != 1:\n"
     ]
    }
   ],
   "source": [
    "y_hat = model.predict(x_val)\n",
    "y_pred = np.argmax(y_hat, axis=1)\n",
    "y_true = np.argmax(y_val, axis=1)\n",
    "cm = confusion_matrix(y_true, y_pred)\n",
    "print(cm)"
   ]
  },
  {
   "cell_type": "code",
   "execution_count": 21,
   "metadata": {
    "collapsed": true,
    "deletable": true,
    "editable": true
   },
   "outputs": [],
   "source": [
    "test_data=test_data.values.astype('float32')\n",
    "x_test = test_data.reshape(-1, 28, 28, 1)/255."
   ]
  },
  {
   "cell_type": "code",
   "execution_count": 22,
   "metadata": {
    "collapsed": true,
    "deletable": true,
    "editable": true
   },
   "outputs": [],
   "source": [
    "y_hat = model.predict(x_test, batch_size=64)\n",
    "y_pred = np.argmax(y_hat,axis=1)"
   ]
  },
  {
   "cell_type": "code",
   "execution_count": 23,
   "metadata": {
    "collapsed": true,
    "deletable": true,
    "editable": true
   },
   "outputs": [],
   "source": [
    "with open('submission_5.csv', 'w') as f :\n",
    "    f.write('ImageId,Label\\n')\n",
    "    for i in range(len(y_pred)) :\n",
    "        f.write(\"\".join([str(i+1),',',str(y_pred[i]),'\\n']))"
   ]
  }
 ],
 "metadata": {
  "kernelspec": {
   "display_name": "Python 2",
   "language": "python",
   "name": "python2"
  },
  "language_info": {
   "codemirror_mode": {
    "name": "ipython",
    "version": 2
   },
   "file_extension": ".py",
   "mimetype": "text/x-python",
   "name": "python",
   "nbconvert_exporter": "python",
   "pygments_lexer": "ipython2",
   "version": "2.7.13"
  }
 },
 "nbformat": 4,
 "nbformat_minor": 2
}

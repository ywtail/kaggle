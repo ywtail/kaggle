{
 "cells": [
  {
   "cell_type": "markdown",
   "metadata": {},
   "source": [
    "# CNN-TensorFlow\n",
    "Score：0.90929\n",
    "\n",
    "结构如下：\n",
    "- x_image=tf.reshape(x,[-1,28,28,1])\n",
    "- h_conv1=tf.nn.relu(conv2d(x_image,W_conv1)+b_conv1)\n",
    "- h_pool1=max_pool_2x2(h_conv1)\n",
    "- h_conv2=tf.nn.relu(conv2d(h_pool1,W_conv2)+b_conv2)\n",
    "- h_pool2=max_pool_2x2(h_conv2)\n",
    "- h_pool2_flat=tf.reshape(h_pool2,[-1,7*7*64])\n",
    "- h_fc1=tf.nn.relu(tf.matmul(h_pool2_flat,W_fc1)+b_fc1)\n",
    "- h_fc1_drop=tf.nn.dropout(h_fc1,keep_prob)\n",
    "- y_conv=tf.nn.softmax(tf.matmul(h_fc1_drop,W_fc2)+b_fc2)\n",
    "- 代价函数：交叉熵\n",
    "- 最小化代价函数：AdamOptimizer，学习率`1e-4`\n",
    "\n",
    "详细分析见：[TensorFlow (4): 卷积神经网络识别手写数字](http://ywtail.github.io/2017/06/05/TensorFlow-4-%E5%8D%B7%E7%A7%AF%E7%A5%9E%E7%BB%8F%E7%BD%91%E7%BB%9C%E8%AF%86%E5%88%AB%E6%89%8B%E5%86%99%E6%95%B0%E5%AD%97/)"
   ]
  },
  {
   "cell_type": "code",
   "execution_count": 1,
   "metadata": {
    "collapsed": false,
    "deletable": true,
    "editable": true
   },
   "outputs": [
    {
     "name": "stderr",
     "output_type": "stream",
     "text": [
      "/usr/lib/pymodules/python2.7/matplotlib/__init__.py:907: UserWarning: Duplicate key in file \"/etc/matplotlibrc\", line #32\n",
      "  (fname, cnt))\n"
     ]
    },
    {
     "data": {
      "text/plain": [
       "((42000, 785), (28000, 784))"
      ]
     },
     "execution_count": 1,
     "metadata": {},
     "output_type": "execute_result"
    }
   ],
   "source": [
    "import pandas as pd\n",
    "import numpy as np\n",
    "\n",
    "train_data=pd.read_csv('train.csv')\n",
    "test_data=pd.read_csv('test.csv')\n",
    "train_data.shape,test_data.shape"
   ]
  },
  {
   "cell_type": "code",
   "execution_count": 2,
   "metadata": {
    "collapsed": false,
    "deletable": true,
    "editable": true
   },
   "outputs": [
    {
     "data": {
      "text/html": [
       "<div>\n",
       "<style>\n",
       "    .dataframe thead tr:only-child th {\n",
       "        text-align: right;\n",
       "    }\n",
       "\n",
       "    .dataframe thead th {\n",
       "        text-align: left;\n",
       "    }\n",
       "\n",
       "    .dataframe tbody tr th {\n",
       "        vertical-align: top;\n",
       "    }\n",
       "</style>\n",
       "<table border=\"1\" class=\"dataframe\">\n",
       "  <thead>\n",
       "    <tr style=\"text-align: right;\">\n",
       "      <th></th>\n",
       "      <th>label</th>\n",
       "      <th>pixel0</th>\n",
       "      <th>pixel1</th>\n",
       "      <th>pixel2</th>\n",
       "      <th>pixel3</th>\n",
       "      <th>pixel4</th>\n",
       "      <th>pixel5</th>\n",
       "      <th>pixel6</th>\n",
       "      <th>pixel7</th>\n",
       "      <th>pixel8</th>\n",
       "      <th>...</th>\n",
       "      <th>pixel774</th>\n",
       "      <th>pixel775</th>\n",
       "      <th>pixel776</th>\n",
       "      <th>pixel777</th>\n",
       "      <th>pixel778</th>\n",
       "      <th>pixel779</th>\n",
       "      <th>pixel780</th>\n",
       "      <th>pixel781</th>\n",
       "      <th>pixel782</th>\n",
       "      <th>pixel783</th>\n",
       "    </tr>\n",
       "  </thead>\n",
       "  <tbody>\n",
       "    <tr>\n",
       "      <th>0</th>\n",
       "      <td>1</td>\n",
       "      <td>0</td>\n",
       "      <td>0</td>\n",
       "      <td>0</td>\n",
       "      <td>0</td>\n",
       "      <td>0</td>\n",
       "      <td>0</td>\n",
       "      <td>0</td>\n",
       "      <td>0</td>\n",
       "      <td>0</td>\n",
       "      <td>...</td>\n",
       "      <td>0</td>\n",
       "      <td>0</td>\n",
       "      <td>0</td>\n",
       "      <td>0</td>\n",
       "      <td>0</td>\n",
       "      <td>0</td>\n",
       "      <td>0</td>\n",
       "      <td>0</td>\n",
       "      <td>0</td>\n",
       "      <td>0</td>\n",
       "    </tr>\n",
       "    <tr>\n",
       "      <th>1</th>\n",
       "      <td>0</td>\n",
       "      <td>0</td>\n",
       "      <td>0</td>\n",
       "      <td>0</td>\n",
       "      <td>0</td>\n",
       "      <td>0</td>\n",
       "      <td>0</td>\n",
       "      <td>0</td>\n",
       "      <td>0</td>\n",
       "      <td>0</td>\n",
       "      <td>...</td>\n",
       "      <td>0</td>\n",
       "      <td>0</td>\n",
       "      <td>0</td>\n",
       "      <td>0</td>\n",
       "      <td>0</td>\n",
       "      <td>0</td>\n",
       "      <td>0</td>\n",
       "      <td>0</td>\n",
       "      <td>0</td>\n",
       "      <td>0</td>\n",
       "    </tr>\n",
       "    <tr>\n",
       "      <th>2</th>\n",
       "      <td>1</td>\n",
       "      <td>0</td>\n",
       "      <td>0</td>\n",
       "      <td>0</td>\n",
       "      <td>0</td>\n",
       "      <td>0</td>\n",
       "      <td>0</td>\n",
       "      <td>0</td>\n",
       "      <td>0</td>\n",
       "      <td>0</td>\n",
       "      <td>...</td>\n",
       "      <td>0</td>\n",
       "      <td>0</td>\n",
       "      <td>0</td>\n",
       "      <td>0</td>\n",
       "      <td>0</td>\n",
       "      <td>0</td>\n",
       "      <td>0</td>\n",
       "      <td>0</td>\n",
       "      <td>0</td>\n",
       "      <td>0</td>\n",
       "    </tr>\n",
       "    <tr>\n",
       "      <th>3</th>\n",
       "      <td>4</td>\n",
       "      <td>0</td>\n",
       "      <td>0</td>\n",
       "      <td>0</td>\n",
       "      <td>0</td>\n",
       "      <td>0</td>\n",
       "      <td>0</td>\n",
       "      <td>0</td>\n",
       "      <td>0</td>\n",
       "      <td>0</td>\n",
       "      <td>...</td>\n",
       "      <td>0</td>\n",
       "      <td>0</td>\n",
       "      <td>0</td>\n",
       "      <td>0</td>\n",
       "      <td>0</td>\n",
       "      <td>0</td>\n",
       "      <td>0</td>\n",
       "      <td>0</td>\n",
       "      <td>0</td>\n",
       "      <td>0</td>\n",
       "    </tr>\n",
       "    <tr>\n",
       "      <th>4</th>\n",
       "      <td>0</td>\n",
       "      <td>0</td>\n",
       "      <td>0</td>\n",
       "      <td>0</td>\n",
       "      <td>0</td>\n",
       "      <td>0</td>\n",
       "      <td>0</td>\n",
       "      <td>0</td>\n",
       "      <td>0</td>\n",
       "      <td>0</td>\n",
       "      <td>...</td>\n",
       "      <td>0</td>\n",
       "      <td>0</td>\n",
       "      <td>0</td>\n",
       "      <td>0</td>\n",
       "      <td>0</td>\n",
       "      <td>0</td>\n",
       "      <td>0</td>\n",
       "      <td>0</td>\n",
       "      <td>0</td>\n",
       "      <td>0</td>\n",
       "    </tr>\n",
       "  </tbody>\n",
       "</table>\n",
       "<p>5 rows × 785 columns</p>\n",
       "</div>"
      ],
      "text/plain": [
       "   label  pixel0  pixel1  pixel2  pixel3  pixel4  pixel5  pixel6  pixel7  \\\n",
       "0      1       0       0       0       0       0       0       0       0   \n",
       "1      0       0       0       0       0       0       0       0       0   \n",
       "2      1       0       0       0       0       0       0       0       0   \n",
       "3      4       0       0       0       0       0       0       0       0   \n",
       "4      0       0       0       0       0       0       0       0       0   \n",
       "\n",
       "   pixel8    ...     pixel774  pixel775  pixel776  pixel777  pixel778  \\\n",
       "0       0    ...            0         0         0         0         0   \n",
       "1       0    ...            0         0         0         0         0   \n",
       "2       0    ...            0         0         0         0         0   \n",
       "3       0    ...            0         0         0         0         0   \n",
       "4       0    ...            0         0         0         0         0   \n",
       "\n",
       "   pixel779  pixel780  pixel781  pixel782  pixel783  \n",
       "0         0         0         0         0         0  \n",
       "1         0         0         0         0         0  \n",
       "2         0         0         0         0         0  \n",
       "3         0         0         0         0         0  \n",
       "4         0         0         0         0         0  \n",
       "\n",
       "[5 rows x 785 columns]"
      ]
     },
     "execution_count": 2,
     "metadata": {},
     "output_type": "execute_result"
    }
   ],
   "source": [
    "train_data.head()"
   ]
  },
  {
   "cell_type": "code",
   "execution_count": 3,
   "metadata": {
    "collapsed": false,
    "deletable": true,
    "editable": true
   },
   "outputs": [
    {
     "data": {
      "text/plain": [
       "(42000, 784)"
      ]
     },
     "execution_count": 3,
     "metadata": {},
     "output_type": "execute_result"
    }
   ],
   "source": [
    "images=train_data.drop(['label'],axis=1).values\n",
    "images.shape"
   ]
  },
  {
   "cell_type": "code",
   "execution_count": 4,
   "metadata": {
    "collapsed": false,
    "deletable": true,
    "editable": true
   },
   "outputs": [
    {
     "name": "stdout",
     "output_type": "stream",
     "text": [
      "(42000, 10)\n"
     ]
    },
    {
     "data": {
      "text/html": [
       "<div>\n",
       "<style>\n",
       "    .dataframe thead tr:only-child th {\n",
       "        text-align: right;\n",
       "    }\n",
       "\n",
       "    .dataframe thead th {\n",
       "        text-align: left;\n",
       "    }\n",
       "\n",
       "    .dataframe tbody tr th {\n",
       "        vertical-align: top;\n",
       "    }\n",
       "</style>\n",
       "<table border=\"1\" class=\"dataframe\">\n",
       "  <thead>\n",
       "    <tr style=\"text-align: right;\">\n",
       "      <th></th>\n",
       "      <th>0</th>\n",
       "      <th>1</th>\n",
       "      <th>2</th>\n",
       "      <th>3</th>\n",
       "      <th>4</th>\n",
       "      <th>5</th>\n",
       "      <th>6</th>\n",
       "      <th>7</th>\n",
       "      <th>8</th>\n",
       "      <th>9</th>\n",
       "    </tr>\n",
       "  </thead>\n",
       "  <tbody>\n",
       "    <tr>\n",
       "      <th>0</th>\n",
       "      <td>0</td>\n",
       "      <td>1</td>\n",
       "      <td>0</td>\n",
       "      <td>0</td>\n",
       "      <td>0</td>\n",
       "      <td>0</td>\n",
       "      <td>0</td>\n",
       "      <td>0</td>\n",
       "      <td>0</td>\n",
       "      <td>0</td>\n",
       "    </tr>\n",
       "    <tr>\n",
       "      <th>1</th>\n",
       "      <td>1</td>\n",
       "      <td>0</td>\n",
       "      <td>0</td>\n",
       "      <td>0</td>\n",
       "      <td>0</td>\n",
       "      <td>0</td>\n",
       "      <td>0</td>\n",
       "      <td>0</td>\n",
       "      <td>0</td>\n",
       "      <td>0</td>\n",
       "    </tr>\n",
       "    <tr>\n",
       "      <th>2</th>\n",
       "      <td>0</td>\n",
       "      <td>1</td>\n",
       "      <td>0</td>\n",
       "      <td>0</td>\n",
       "      <td>0</td>\n",
       "      <td>0</td>\n",
       "      <td>0</td>\n",
       "      <td>0</td>\n",
       "      <td>0</td>\n",
       "      <td>0</td>\n",
       "    </tr>\n",
       "    <tr>\n",
       "      <th>3</th>\n",
       "      <td>0</td>\n",
       "      <td>0</td>\n",
       "      <td>0</td>\n",
       "      <td>0</td>\n",
       "      <td>1</td>\n",
       "      <td>0</td>\n",
       "      <td>0</td>\n",
       "      <td>0</td>\n",
       "      <td>0</td>\n",
       "      <td>0</td>\n",
       "    </tr>\n",
       "    <tr>\n",
       "      <th>4</th>\n",
       "      <td>1</td>\n",
       "      <td>0</td>\n",
       "      <td>0</td>\n",
       "      <td>0</td>\n",
       "      <td>0</td>\n",
       "      <td>0</td>\n",
       "      <td>0</td>\n",
       "      <td>0</td>\n",
       "      <td>0</td>\n",
       "      <td>0</td>\n",
       "    </tr>\n",
       "  </tbody>\n",
       "</table>\n",
       "</div>"
      ],
      "text/plain": [
       "   0  1  2  3  4  5  6  7  8  9\n",
       "0  0  1  0  0  0  0  0  0  0  0\n",
       "1  1  0  0  0  0  0  0  0  0  0\n",
       "2  0  1  0  0  0  0  0  0  0  0\n",
       "3  0  0  0  0  1  0  0  0  0  0\n",
       "4  1  0  0  0  0  0  0  0  0  0"
      ]
     },
     "execution_count": 4,
     "metadata": {},
     "output_type": "execute_result"
    }
   ],
   "source": [
    "labels=train_data['label']\n",
    "labels=pd.get_dummies(labels)\n",
    "print labels.shape\n",
    "labels.head()"
   ]
  },
  {
   "cell_type": "code",
   "execution_count": 5,
   "metadata": {
    "collapsed": false,
    "deletable": true,
    "editable": true
   },
   "outputs": [
    {
     "data": {
      "text/plain": [
       "(42000, 10)"
      ]
     },
     "execution_count": 5,
     "metadata": {},
     "output_type": "execute_result"
    }
   ],
   "source": [
    "labels=labels.values\n",
    "labels.shape"
   ]
  },
  {
   "cell_type": "code",
   "execution_count": 6,
   "metadata": {
    "collapsed": false,
    "deletable": true,
    "editable": true
   },
   "outputs": [
    {
     "data": {
      "text/plain": [
       "(42000, 784)"
      ]
     },
     "execution_count": 6,
     "metadata": {},
     "output_type": "execute_result"
    }
   ],
   "source": [
    "images=np.multiply(images,1.0/255.0)\n",
    "images.shape"
   ]
  },
  {
   "cell_type": "code",
   "execution_count": 7,
   "metadata": {
    "collapsed": false,
    "deletable": true,
    "editable": true
   },
   "outputs": [
    {
     "data": {
      "text/plain": [
       "((40000, 784), 40000, (2000, 784), 2000)"
      ]
     },
     "execution_count": 7,
     "metadata": {},
     "output_type": "execute_result"
    }
   ],
   "source": [
    "TRAIN_SIZE=40000\n",
    "train_images=images[:TRAIN_SIZE]\n",
    "train_labels=labels[:TRAIN_SIZE]\n",
    "val_images=images[TRAIN_SIZE:]\n",
    "val_labels=labels[TRAIN_SIZE:]\n",
    "\n",
    "train_images.shape,len(train_labels),val_images.shape,len(val_labels)"
   ]
  },
  {
   "cell_type": "code",
   "execution_count": 8,
   "metadata": {
    "collapsed": false,
    "deletable": true,
    "editable": true
   },
   "outputs": [
    {
     "data": {
      "text/plain": [
       "array([[ 0.,  0.,  0., ...,  0.,  0.,  0.],\n",
       "       [ 0.,  0.,  0., ...,  0.,  0.,  0.],\n",
       "       [ 0.,  0.,  0., ...,  0.,  0.,  0.],\n",
       "       [ 0.,  0.,  0., ...,  0.,  0.,  0.],\n",
       "       [ 0.,  0.,  0., ...,  0.,  0.,  0.]])"
      ]
     },
     "execution_count": 8,
     "metadata": {},
     "output_type": "execute_result"
    }
   ],
   "source": [
    "train_images[:5]"
   ]
  },
  {
   "cell_type": "code",
   "execution_count": 9,
   "metadata": {
    "collapsed": false,
    "deletable": true,
    "editable": true
   },
   "outputs": [
    {
     "data": {
      "text/plain": [
       "array([[0, 1, 0, 0, 0, 0, 0, 0, 0, 0],\n",
       "       [1, 0, 0, 0, 0, 0, 0, 0, 0, 0],\n",
       "       [0, 1, 0, 0, 0, 0, 0, 0, 0, 0],\n",
       "       [0, 0, 0, 0, 1, 0, 0, 0, 0, 0],\n",
       "       [1, 0, 0, 0, 0, 0, 0, 0, 0, 0]], dtype=uint8)"
      ]
     },
     "execution_count": 9,
     "metadata": {},
     "output_type": "execute_result"
    }
   ],
   "source": [
    "train_labels[:5]"
   ]
  },
  {
   "cell_type": "markdown",
   "metadata": {
    "deletable": true,
    "editable": true
   },
   "source": [
    "# 参数\n",
    "\n",
    "## weight 和 bias"
   ]
  },
  {
   "cell_type": "code",
   "execution_count": 10,
   "metadata": {
    "collapsed": true,
    "deletable": true,
    "editable": true
   },
   "outputs": [],
   "source": [
    "import tensorflow as tf\n",
    "\n",
    "sess=tf.InteractiveSession()"
   ]
  },
  {
   "cell_type": "code",
   "execution_count": 11,
   "metadata": {
    "collapsed": true,
    "deletable": true,
    "editable": true
   },
   "outputs": [],
   "source": [
    "def weight_variable(shape):\n",
    "    initial=tf.truncated_normal(shape,stddev=0.1)\n",
    "    return tf.Variable(initial)\n",
    "\n",
    "def bias_variable(shape):\n",
    "    initial=tf.constant(0.1,shape=shape)\n",
    "    return tf.Variable(initial)"
   ]
  },
  {
   "cell_type": "markdown",
   "metadata": {
    "deletable": true,
    "editable": true
   },
   "source": [
    "## 卷积和池化"
   ]
  },
  {
   "cell_type": "code",
   "execution_count": 12,
   "metadata": {
    "collapsed": true,
    "deletable": true,
    "editable": true
   },
   "outputs": [],
   "source": [
    "def conv2d(x,W):\n",
    "    return tf.nn.conv2d(x,W,strides=[1,1,1,1],padding='SAME')\n",
    "\n",
    "def max_pool_2x2(x):\n",
    "    return tf.nn.max_pool(x,ksize=[1,2,2,1],strides=[1,2,2,1],padding='SAME')"
   ]
  },
  {
   "cell_type": "code",
   "execution_count": 13,
   "metadata": {
    "collapsed": true,
    "deletable": true,
    "editable": true
   },
   "outputs": [],
   "source": [
    "x=tf.placeholder(tf.float32,[None,784])\n",
    "y_=tf.placeholder(tf.float32,[None,10])\n",
    "x_image=tf.reshape(x,[-1,28,28,1])"
   ]
  },
  {
   "cell_type": "code",
   "execution_count": 14,
   "metadata": {
    "collapsed": true,
    "deletable": true,
    "editable": true
   },
   "outputs": [],
   "source": [
    "W_conv1=weight_variable([5,5,1,32])\n",
    "b_conv1=bias_variable([32])\n",
    "\n",
    "h_conv1=tf.nn.relu(conv2d(x_image,W_conv1)+b_conv1)\n",
    "h_pool1=max_pool_2x2(h_conv1)"
   ]
  },
  {
   "cell_type": "code",
   "execution_count": 15,
   "metadata": {
    "collapsed": true,
    "deletable": true,
    "editable": true
   },
   "outputs": [],
   "source": [
    "W_conv2=weight_variable([5,5,32,64])\n",
    "b_conv2=bias_variable([64])\n",
    "\n",
    "h_conv2=tf.nn.relu(conv2d(h_pool1,W_conv2)+b_conv2)\n",
    "h_pool2=max_pool_2x2(h_conv2)"
   ]
  },
  {
   "cell_type": "code",
   "execution_count": 16,
   "metadata": {
    "collapsed": true,
    "deletable": true,
    "editable": true
   },
   "outputs": [],
   "source": [
    "W_fc1=weight_variable([7*7*64,1024])\n",
    "b_fc1=bias_variable([1024])\n",
    "\n",
    "h_pool2_flat=tf.reshape(h_pool2,[-1,7*7*64])\n",
    "h_fc1=tf.nn.relu(tf.matmul(h_pool2_flat,W_fc1)+b_fc1)"
   ]
  },
  {
   "cell_type": "code",
   "execution_count": 17,
   "metadata": {
    "collapsed": true,
    "deletable": true,
    "editable": true
   },
   "outputs": [],
   "source": [
    "keep_prob=tf.placeholder(tf.float32)\n",
    "h_fc1_drop=tf.nn.dropout(h_fc1,keep_prob)"
   ]
  },
  {
   "cell_type": "code",
   "execution_count": 18,
   "metadata": {
    "collapsed": true,
    "deletable": true,
    "editable": true
   },
   "outputs": [],
   "source": [
    "W_fc2=weight_variable([1024,10])\n",
    "b_fc2=bias_variable([10])\n",
    "\n",
    "y_conv=tf.nn.softmax(tf.matmul(h_fc1_drop,W_fc2)+b_fc2)"
   ]
  },
  {
   "cell_type": "code",
   "execution_count": 19,
   "metadata": {
    "collapsed": true,
    "deletable": true,
    "editable": true
   },
   "outputs": [],
   "source": [
    "cross_entropy=-tf.reduce_sum(y_*tf.log(y_conv))\n",
    "train_step=tf.train.AdamOptimizer(1e-4).minimize(cross_entropy)"
   ]
  },
  {
   "cell_type": "markdown",
   "metadata": {
    "deletable": true,
    "editable": true
   },
   "source": [
    "## 训练模型"
   ]
  },
  {
   "cell_type": "code",
   "execution_count": 20,
   "metadata": {
    "collapsed": true,
    "deletable": true,
    "editable": true
   },
   "outputs": [],
   "source": [
    "BATCH_SIZE=50\n",
    "index_in_epoch=0\n",
    "num_examples=train_images.shape[0]\n",
    "\n",
    "def next_batch(batch_size):\n",
    "    global train_images\n",
    "    global train_labels\n",
    "    global index_in_epoch\n",
    "    \n",
    "    start=index_in_epoch\n",
    "    index_in_epoch+=batch_size\n",
    "    \n",
    "    if index_in_epoch>num_examples:\n",
    "        print 'epoches copleted!'\n",
    "        # 一轮完毕，shuffle数据\n",
    "        perm=np.arange(num_examples) # 生成一个序列\n",
    "        np.random.shuffle(perm)\n",
    "        train_images=train_images[perm]\n",
    "        train_labels=train_labels[perm]\n",
    "        # 开始下个epoch\n",
    "        start=0\n",
    "        index_in_epoch=batch_size\n",
    "        assert batch_size<=num_examples\n",
    "    end=index_in_epoch\n",
    "    return train_images[start:end],train_labels[start:end]"
   ]
  },
  {
   "cell_type": "code",
   "execution_count": 21,
   "metadata": {
    "collapsed": true,
    "deletable": true,
    "editable": true
   },
   "outputs": [],
   "source": [
    "correct_prediction=tf.equal(tf.argmax(y_conv,1),tf.argmax(y_,1))\n",
    "accuracy=tf.reduce_mean(tf.cast(correct_prediction,'float'))"
   ]
  },
  {
   "cell_type": "code",
   "execution_count": 22,
   "metadata": {
    "collapsed": false,
    "deletable": true,
    "editable": true
   },
   "outputs": [
    {
     "name": "stdout",
     "output_type": "stream",
     "text": [
      "step:0, train_accuracy=0.0399999991059,test_accuracy=0.10000000149\n",
      "step:100, train_accuracy=0.759999990463,test_accuracy=0.740000009537\n",
      "step:200, train_accuracy=0.939999997616,test_accuracy=0.839999973774\n",
      "step:300, train_accuracy=1.0,test_accuracy=0.800000011921\n",
      "step:400, train_accuracy=0.939999997616,test_accuracy=0.860000014305\n",
      "step:500, train_accuracy=0.939999997616,test_accuracy=0.879999995232\n",
      "step:600, train_accuracy=0.980000019073,test_accuracy=0.879999995232\n",
      "step:700, train_accuracy=1.0,test_accuracy=0.899999976158\n",
      "epoches copleted!\n",
      "step:800, train_accuracy=0.920000016689,test_accuracy=0.860000014305\n",
      "step:900, train_accuracy=0.920000016689,test_accuracy=0.920000016689\n",
      "step:1000, train_accuracy=0.959999978542,test_accuracy=0.879999995232\n",
      "step:1100, train_accuracy=0.939999997616,test_accuracy=0.899999976158\n",
      "step:1200, train_accuracy=0.980000019073,test_accuracy=0.920000016689\n",
      "step:1300, train_accuracy=0.899999976158,test_accuracy=0.959999978542\n",
      "step:1400, train_accuracy=1.0,test_accuracy=0.939999997616\n",
      "step:1500, train_accuracy=0.959999978542,test_accuracy=0.920000016689\n",
      "epoches copleted!\n",
      "step:1600, train_accuracy=0.959999978542,test_accuracy=0.899999976158\n",
      "step:1700, train_accuracy=0.980000019073,test_accuracy=0.899999976158\n",
      "step:1800, train_accuracy=0.959999978542,test_accuracy=0.920000016689\n",
      "step:1900, train_accuracy=1.0,test_accuracy=0.939999997616\n",
      "step:2000, train_accuracy=0.980000019073,test_accuracy=0.939999997616\n",
      "step:2100, train_accuracy=0.980000019073,test_accuracy=0.959999978542\n",
      "step:2200, train_accuracy=1.0,test_accuracy=0.959999978542\n",
      "step:2300, train_accuracy=1.0,test_accuracy=0.959999978542\n",
      "epoches copleted!\n",
      "step:2400, train_accuracy=1.0,test_accuracy=0.939999997616\n",
      "step:2500, train_accuracy=0.980000019073,test_accuracy=0.939999997616\n",
      "step:2600, train_accuracy=1.0,test_accuracy=0.920000016689\n",
      "step:2700, train_accuracy=0.980000019073,test_accuracy=0.959999978542\n",
      "step:2800, train_accuracy=1.0,test_accuracy=0.939999997616\n",
      "step:2900, train_accuracy=1.0,test_accuracy=0.939999997616\n",
      "step:3000, train_accuracy=0.980000019073,test_accuracy=0.939999997616\n",
      "step:3100, train_accuracy=1.0,test_accuracy=0.939999997616\n",
      "epoches copleted!\n",
      "step:3200, train_accuracy=1.0,test_accuracy=0.939999997616\n",
      "step:3300, train_accuracy=0.959999978542,test_accuracy=0.939999997616\n",
      "step:3400, train_accuracy=1.0,test_accuracy=0.959999978542\n",
      "step:3500, train_accuracy=0.980000019073,test_accuracy=0.959999978542\n",
      "step:3600, train_accuracy=1.0,test_accuracy=0.939999997616\n",
      "step:3700, train_accuracy=0.980000019073,test_accuracy=0.939999997616\n",
      "step:3800, train_accuracy=1.0,test_accuracy=0.980000019073\n",
      "step:3900, train_accuracy=0.959999978542,test_accuracy=0.980000019073\n",
      "epoches copleted!\n",
      "step:4000, train_accuracy=0.980000019073,test_accuracy=1.0\n",
      "step:4100, train_accuracy=1.0,test_accuracy=0.959999978542\n",
      "step:4200, train_accuracy=1.0,test_accuracy=0.959999978542\n",
      "step:4300, train_accuracy=0.980000019073,test_accuracy=0.959999978542\n",
      "step:4400, train_accuracy=0.980000019073,test_accuracy=0.980000019073\n",
      "step:4500, train_accuracy=0.959999978542,test_accuracy=0.980000019073\n",
      "step:4600, train_accuracy=1.0,test_accuracy=0.939999997616\n",
      "step:4700, train_accuracy=1.0,test_accuracy=0.959999978542\n",
      "epoches copleted!\n",
      "step:4800, train_accuracy=1.0,test_accuracy=0.959999978542\n",
      "step:4900, train_accuracy=0.980000019073,test_accuracy=0.939999997616\n",
      "step:5000, train_accuracy=0.980000019073,test_accuracy=1.0\n",
      "step:5100, train_accuracy=0.980000019073,test_accuracy=0.980000019073\n",
      "step:5200, train_accuracy=1.0,test_accuracy=0.980000019073\n",
      "step:5300, train_accuracy=1.0,test_accuracy=0.959999978542\n",
      "step:5400, train_accuracy=1.0,test_accuracy=0.980000019073\n",
      "step:5500, train_accuracy=0.980000019073,test_accuracy=1.0\n",
      "epoches copleted!\n",
      "step:5600, train_accuracy=0.980000019073,test_accuracy=0.959999978542\n",
      "step:5700, train_accuracy=0.980000019073,test_accuracy=0.980000019073\n",
      "step:5800, train_accuracy=1.0,test_accuracy=0.980000019073\n",
      "step:5900, train_accuracy=0.980000019073,test_accuracy=0.980000019073\n",
      "step:6000, train_accuracy=1.0,test_accuracy=0.959999978542\n",
      "step:6100, train_accuracy=1.0,test_accuracy=0.959999978542\n",
      "step:6200, train_accuracy=0.980000019073,test_accuracy=0.980000019073\n",
      "step:6300, train_accuracy=1.0,test_accuracy=1.0\n",
      "epoches copleted!\n",
      "step:6400, train_accuracy=1.0,test_accuracy=1.0\n",
      "step:6500, train_accuracy=0.980000019073,test_accuracy=0.959999978542\n",
      "step:6600, train_accuracy=1.0,test_accuracy=1.0\n",
      "step:6700, train_accuracy=1.0,test_accuracy=0.980000019073\n",
      "step:6800, train_accuracy=0.980000019073,test_accuracy=1.0\n",
      "step:6900, train_accuracy=1.0,test_accuracy=0.980000019073\n",
      "step:7000, train_accuracy=1.0,test_accuracy=0.980000019073\n",
      "step:7100, train_accuracy=1.0,test_accuracy=1.0\n",
      "epoches copleted!\n",
      "step:7200, train_accuracy=1.0,test_accuracy=0.980000019073\n",
      "step:7300, train_accuracy=1.0,test_accuracy=0.980000019073\n",
      "step:7400, train_accuracy=1.0,test_accuracy=0.980000019073\n",
      "step:7500, train_accuracy=1.0,test_accuracy=0.959999978542\n",
      "step:7600, train_accuracy=1.0,test_accuracy=0.980000019073\n",
      "step:7700, train_accuracy=1.0,test_accuracy=0.980000019073\n",
      "step:7800, train_accuracy=1.0,test_accuracy=1.0\n",
      "step:7900, train_accuracy=1.0,test_accuracy=0.980000019073\n",
      "epoches copleted!\n",
      "step:8000, train_accuracy=1.0,test_accuracy=1.0\n",
      "step:8100, train_accuracy=1.0,test_accuracy=1.0\n",
      "step:8200, train_accuracy=1.0,test_accuracy=1.0\n",
      "step:8300, train_accuracy=0.980000019073,test_accuracy=0.980000019073\n",
      "step:8400, train_accuracy=1.0,test_accuracy=1.0\n",
      "step:8500, train_accuracy=1.0,test_accuracy=0.980000019073\n",
      "step:8600, train_accuracy=1.0,test_accuracy=0.980000019073\n",
      "step:8700, train_accuracy=0.980000019073,test_accuracy=0.980000019073\n",
      "epoches copleted!\n",
      "step:8800, train_accuracy=1.0,test_accuracy=0.980000019073\n",
      "step:8900, train_accuracy=1.0,test_accuracy=0.959999978542\n",
      "step:9000, train_accuracy=1.0,test_accuracy=0.980000019073\n",
      "step:9100, train_accuracy=1.0,test_accuracy=1.0\n",
      "step:9200, train_accuracy=1.0,test_accuracy=0.959999978542\n",
      "step:9300, train_accuracy=1.0,test_accuracy=0.980000019073\n",
      "step:9400, train_accuracy=1.0,test_accuracy=1.0\n",
      "step:9500, train_accuracy=0.980000019073,test_accuracy=0.980000019073\n",
      "epoches copleted!\n",
      "step:9600, train_accuracy=1.0,test_accuracy=1.0\n",
      "step:9700, train_accuracy=1.0,test_accuracy=0.980000019073\n",
      "step:9800, train_accuracy=1.0,test_accuracy=0.980000019073\n",
      "step:9900, train_accuracy=1.0,test_accuracy=1.0\n",
      "step:10000, train_accuracy=1.0,test_accuracy=1.0\n",
      "step:10100, train_accuracy=1.0,test_accuracy=0.959999978542\n",
      "step:10200, train_accuracy=1.0,test_accuracy=0.980000019073\n",
      "step:10300, train_accuracy=1.0,test_accuracy=0.980000019073\n",
      "epoches copleted!\n",
      "step:10400, train_accuracy=1.0,test_accuracy=0.959999978542\n",
      "step:10500, train_accuracy=1.0,test_accuracy=1.0\n",
      "step:10600, train_accuracy=1.0,test_accuracy=1.0\n",
      "step:10700, train_accuracy=1.0,test_accuracy=1.0\n",
      "step:10800, train_accuracy=1.0,test_accuracy=1.0\n",
      "step:10900, train_accuracy=1.0,test_accuracy=1.0\n",
      "step:11000, train_accuracy=1.0,test_accuracy=1.0\n",
      "step:11100, train_accuracy=1.0,test_accuracy=0.980000019073\n",
      "epoches copleted!\n",
      "step:11200, train_accuracy=1.0,test_accuracy=0.980000019073\n",
      "step:11300, train_accuracy=1.0,test_accuracy=0.980000019073\n",
      "step:11400, train_accuracy=1.0,test_accuracy=0.980000019073\n",
      "step:11500, train_accuracy=1.0,test_accuracy=0.980000019073\n",
      "step:11600, train_accuracy=1.0,test_accuracy=1.0\n",
      "step:11700, train_accuracy=1.0,test_accuracy=1.0\n",
      "step:11800, train_accuracy=1.0,test_accuracy=0.980000019073\n",
      "step:11900, train_accuracy=1.0,test_accuracy=1.0\n",
      "epoches copleted!\n",
      "step:12000, train_accuracy=1.0,test_accuracy=1.0\n",
      "step:12100, train_accuracy=1.0,test_accuracy=1.0\n",
      "step:12200, train_accuracy=1.0,test_accuracy=1.0\n",
      "step:12300, train_accuracy=1.0,test_accuracy=1.0\n",
      "step:12400, train_accuracy=1.0,test_accuracy=1.0\n",
      "step:12500, train_accuracy=1.0,test_accuracy=1.0\n",
      "step:12600, train_accuracy=1.0,test_accuracy=1.0\n",
      "step:12700, train_accuracy=1.0,test_accuracy=1.0\n",
      "epoches copleted!\n",
      "step:12800, train_accuracy=1.0,test_accuracy=1.0\n",
      "step:12900, train_accuracy=1.0,test_accuracy=0.980000019073\n",
      "step:13000, train_accuracy=1.0,test_accuracy=1.0\n",
      "step:13100, train_accuracy=1.0,test_accuracy=0.959999978542\n",
      "step:13200, train_accuracy=1.0,test_accuracy=1.0\n",
      "step:13300, train_accuracy=1.0,test_accuracy=1.0\n",
      "step:13400, train_accuracy=1.0,test_accuracy=1.0\n",
      "step:13500, train_accuracy=1.0,test_accuracy=1.0\n",
      "epoches copleted!\n",
      "step:13600, train_accuracy=1.0,test_accuracy=1.0\n",
      "step:13700, train_accuracy=1.0,test_accuracy=0.980000019073\n",
      "step:13800, train_accuracy=1.0,test_accuracy=0.980000019073\n",
      "step:13900, train_accuracy=1.0,test_accuracy=1.0\n",
      "step:14000, train_accuracy=1.0,test_accuracy=1.0\n",
      "step:14100, train_accuracy=1.0,test_accuracy=1.0\n",
      "step:14200, train_accuracy=1.0,test_accuracy=0.980000019073\n",
      "step:14300, train_accuracy=1.0,test_accuracy=1.0\n",
      "epoches copleted!\n",
      "step:14400, train_accuracy=1.0,test_accuracy=0.980000019073\n",
      "step:14500, train_accuracy=1.0,test_accuracy=1.0\n",
      "step:14600, train_accuracy=1.0,test_accuracy=0.980000019073\n",
      "step:14700, train_accuracy=1.0,test_accuracy=1.0\n",
      "step:14800, train_accuracy=1.0,test_accuracy=1.0\n",
      "step:14900, train_accuracy=1.0,test_accuracy=1.0\n",
      "step:15000, train_accuracy=1.0,test_accuracy=1.0\n",
      "step:15100, train_accuracy=1.0,test_accuracy=0.980000019073\n",
      "epoches copleted!\n",
      "step:15200, train_accuracy=1.0,test_accuracy=1.0\n",
      "step:15300, train_accuracy=0.980000019073,test_accuracy=1.0\n",
      "step:15400, train_accuracy=1.0,test_accuracy=1.0\n",
      "step:15500, train_accuracy=1.0,test_accuracy=0.980000019073\n",
      "step:15600, train_accuracy=1.0,test_accuracy=1.0\n",
      "step:15700, train_accuracy=1.0,test_accuracy=1.0\n",
      "step:15800, train_accuracy=1.0,test_accuracy=1.0\n",
      "step:15900, train_accuracy=1.0,test_accuracy=1.0\n"
     ]
    }
   ],
   "source": [
    "tf.global_variables_initializer().run()\n",
    "for i in range(16000):\n",
    "    batch_xs,batch_ys=next_batch(BATCH_SIZE)\n",
    "    if i%100==0:\n",
    "        train_accuracy=accuracy.eval({x:batch_xs,y_:batch_ys,keep_prob:1.0})\n",
    "        test_accuracy=accuracy.eval({x:val_images[:BATCH_SIZE],y_:val_labels[:BATCH_SIZE],keep_prob:1.0})\n",
    "        print 'step:{}, train_accuracy={},test_accuracy={}'.format(i,train_accuracy,test_accuracy)\n",
    "    sess.run(train_step,feed_dict={x:batch_xs,y_:batch_ys,keep_prob:0.75})"
   ]
  },
  {
   "cell_type": "code",
   "execution_count": 23,
   "metadata": {
    "collapsed": false,
    "deletable": true,
    "editable": true
   },
   "outputs": [
    {
     "data": {
      "text/plain": [
       "0.98699999"
      ]
     },
     "execution_count": 23,
     "metadata": {},
     "output_type": "execute_result"
    }
   ],
   "source": [
    "val_accuracy=accuracy.eval({x:val_images,y_:val_labels,keep_prob:1.0})\n",
    "val_accuracy\n",
    "# 提交分数0.98825"
   ]
  },
  {
   "cell_type": "code",
   "execution_count": 24,
   "metadata": {
    "collapsed": false,
    "deletable": true,
    "editable": true
   },
   "outputs": [
    {
     "data": {
      "text/html": [
       "<div>\n",
       "<style>\n",
       "    .dataframe thead tr:only-child th {\n",
       "        text-align: right;\n",
       "    }\n",
       "\n",
       "    .dataframe thead th {\n",
       "        text-align: left;\n",
       "    }\n",
       "\n",
       "    .dataframe tbody tr th {\n",
       "        vertical-align: top;\n",
       "    }\n",
       "</style>\n",
       "<table border=\"1\" class=\"dataframe\">\n",
       "  <thead>\n",
       "    <tr style=\"text-align: right;\">\n",
       "      <th></th>\n",
       "      <th>pixel0</th>\n",
       "      <th>pixel1</th>\n",
       "      <th>pixel2</th>\n",
       "      <th>pixel3</th>\n",
       "      <th>pixel4</th>\n",
       "      <th>pixel5</th>\n",
       "      <th>pixel6</th>\n",
       "      <th>pixel7</th>\n",
       "      <th>pixel8</th>\n",
       "      <th>pixel9</th>\n",
       "      <th>...</th>\n",
       "      <th>pixel774</th>\n",
       "      <th>pixel775</th>\n",
       "      <th>pixel776</th>\n",
       "      <th>pixel777</th>\n",
       "      <th>pixel778</th>\n",
       "      <th>pixel779</th>\n",
       "      <th>pixel780</th>\n",
       "      <th>pixel781</th>\n",
       "      <th>pixel782</th>\n",
       "      <th>pixel783</th>\n",
       "    </tr>\n",
       "  </thead>\n",
       "  <tbody>\n",
       "    <tr>\n",
       "      <th>0</th>\n",
       "      <td>0</td>\n",
       "      <td>0</td>\n",
       "      <td>0</td>\n",
       "      <td>0</td>\n",
       "      <td>0</td>\n",
       "      <td>0</td>\n",
       "      <td>0</td>\n",
       "      <td>0</td>\n",
       "      <td>0</td>\n",
       "      <td>0</td>\n",
       "      <td>...</td>\n",
       "      <td>0</td>\n",
       "      <td>0</td>\n",
       "      <td>0</td>\n",
       "      <td>0</td>\n",
       "      <td>0</td>\n",
       "      <td>0</td>\n",
       "      <td>0</td>\n",
       "      <td>0</td>\n",
       "      <td>0</td>\n",
       "      <td>0</td>\n",
       "    </tr>\n",
       "    <tr>\n",
       "      <th>1</th>\n",
       "      <td>0</td>\n",
       "      <td>0</td>\n",
       "      <td>0</td>\n",
       "      <td>0</td>\n",
       "      <td>0</td>\n",
       "      <td>0</td>\n",
       "      <td>0</td>\n",
       "      <td>0</td>\n",
       "      <td>0</td>\n",
       "      <td>0</td>\n",
       "      <td>...</td>\n",
       "      <td>0</td>\n",
       "      <td>0</td>\n",
       "      <td>0</td>\n",
       "      <td>0</td>\n",
       "      <td>0</td>\n",
       "      <td>0</td>\n",
       "      <td>0</td>\n",
       "      <td>0</td>\n",
       "      <td>0</td>\n",
       "      <td>0</td>\n",
       "    </tr>\n",
       "    <tr>\n",
       "      <th>2</th>\n",
       "      <td>0</td>\n",
       "      <td>0</td>\n",
       "      <td>0</td>\n",
       "      <td>0</td>\n",
       "      <td>0</td>\n",
       "      <td>0</td>\n",
       "      <td>0</td>\n",
       "      <td>0</td>\n",
       "      <td>0</td>\n",
       "      <td>0</td>\n",
       "      <td>...</td>\n",
       "      <td>0</td>\n",
       "      <td>0</td>\n",
       "      <td>0</td>\n",
       "      <td>0</td>\n",
       "      <td>0</td>\n",
       "      <td>0</td>\n",
       "      <td>0</td>\n",
       "      <td>0</td>\n",
       "      <td>0</td>\n",
       "      <td>0</td>\n",
       "    </tr>\n",
       "    <tr>\n",
       "      <th>3</th>\n",
       "      <td>0</td>\n",
       "      <td>0</td>\n",
       "      <td>0</td>\n",
       "      <td>0</td>\n",
       "      <td>0</td>\n",
       "      <td>0</td>\n",
       "      <td>0</td>\n",
       "      <td>0</td>\n",
       "      <td>0</td>\n",
       "      <td>0</td>\n",
       "      <td>...</td>\n",
       "      <td>0</td>\n",
       "      <td>0</td>\n",
       "      <td>0</td>\n",
       "      <td>0</td>\n",
       "      <td>0</td>\n",
       "      <td>0</td>\n",
       "      <td>0</td>\n",
       "      <td>0</td>\n",
       "      <td>0</td>\n",
       "      <td>0</td>\n",
       "    </tr>\n",
       "    <tr>\n",
       "      <th>4</th>\n",
       "      <td>0</td>\n",
       "      <td>0</td>\n",
       "      <td>0</td>\n",
       "      <td>0</td>\n",
       "      <td>0</td>\n",
       "      <td>0</td>\n",
       "      <td>0</td>\n",
       "      <td>0</td>\n",
       "      <td>0</td>\n",
       "      <td>0</td>\n",
       "      <td>...</td>\n",
       "      <td>0</td>\n",
       "      <td>0</td>\n",
       "      <td>0</td>\n",
       "      <td>0</td>\n",
       "      <td>0</td>\n",
       "      <td>0</td>\n",
       "      <td>0</td>\n",
       "      <td>0</td>\n",
       "      <td>0</td>\n",
       "      <td>0</td>\n",
       "    </tr>\n",
       "  </tbody>\n",
       "</table>\n",
       "<p>5 rows × 784 columns</p>\n",
       "</div>"
      ],
      "text/plain": [
       "   pixel0  pixel1  pixel2  pixel3  pixel4  pixel5  pixel6  pixel7  pixel8  \\\n",
       "0       0       0       0       0       0       0       0       0       0   \n",
       "1       0       0       0       0       0       0       0       0       0   \n",
       "2       0       0       0       0       0       0       0       0       0   \n",
       "3       0       0       0       0       0       0       0       0       0   \n",
       "4       0       0       0       0       0       0       0       0       0   \n",
       "\n",
       "   pixel9    ...     pixel774  pixel775  pixel776  pixel777  pixel778  \\\n",
       "0       0    ...            0         0         0         0         0   \n",
       "1       0    ...            0         0         0         0         0   \n",
       "2       0    ...            0         0         0         0         0   \n",
       "3       0    ...            0         0         0         0         0   \n",
       "4       0    ...            0         0         0         0         0   \n",
       "\n",
       "   pixel779  pixel780  pixel781  pixel782  pixel783  \n",
       "0         0         0         0         0         0  \n",
       "1         0         0         0         0         0  \n",
       "2         0         0         0         0         0  \n",
       "3         0         0         0         0         0  \n",
       "4         0         0         0         0         0  \n",
       "\n",
       "[5 rows x 784 columns]"
      ]
     },
     "execution_count": 24,
     "metadata": {},
     "output_type": "execute_result"
    }
   ],
   "source": [
    "test_data.head()"
   ]
  },
  {
   "cell_type": "code",
   "execution_count": 25,
   "metadata": {
    "collapsed": false,
    "deletable": true,
    "editable": true
   },
   "outputs": [
    {
     "data": {
      "text/plain": [
       "array([2, 0, 9, 0, 3])"
      ]
     },
     "execution_count": 25,
     "metadata": {},
     "output_type": "execute_result"
    }
   ],
   "source": [
    "test_images=test_data.values\n",
    "test_images=np.multiply(test_images,1.0/255.0)\n",
    "predict = tf.argmax(y_conv,1)\n",
    "predicted_labels=predict.eval(feed_dict={x:test_images,keep_prob:1.0})\n",
    "predicted_labels[:5]"
   ]
  },
  {
   "cell_type": "code",
   "execution_count": 27,
   "metadata": {
    "collapsed": true,
    "deletable": true,
    "editable": true
   },
   "outputs": [],
   "source": [
    "submissions=pd.DataFrame({\"ImageId\": list(range(1,len(predicted_labels)+1)),\n",
    "                         \"Label\": predicted_labels})\n",
    "submissions.to_csv('submission_4.csv',index=False)"
   ]
  }
 ],
 "metadata": {
  "kernelspec": {
   "display_name": "Python 2",
   "language": "python",
   "name": "python2"
  },
  "language_info": {
   "codemirror_mode": {
    "name": "ipython",
    "version": 2
   },
   "file_extension": ".py",
   "mimetype": "text/x-python",
   "name": "python",
   "nbconvert_exporter": "python",
   "pygments_lexer": "ipython2",
   "version": "2.7.13"
  }
 },
 "nbformat": 4,
 "nbformat_minor": 2
}
